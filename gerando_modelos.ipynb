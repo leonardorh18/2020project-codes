{
  "nbformat": 4,
  "nbformat_minor": 0,
  "metadata": {
    "colab": {
      "name": "gerando modelos.ipynb",
      "provenance": [],
      "collapsed_sections": []
    },
    "kernelspec": {
      "name": "python3",
      "display_name": "Python 3"
    },
    "language_info": {
      "name": "python"
    }
  },
  "cells": [
    {
      "cell_type": "code",
      "metadata": {
        "id": "-Z3mLRJl0nGT"
      },
      "source": [
        "!pip install tomotopy"
      ],
      "execution_count": null,
      "outputs": []
    },
    {
      "cell_type": "code",
      "metadata": {
        "id": "Usl1z2jK2arD"
      },
      "source": [
        "!pip install numpy --upgrade --user"
      ],
      "execution_count": null,
      "outputs": []
    },
    {
      "cell_type": "code",
      "metadata": {
        "id": "Gf7fNvhD2iMS"
      },
      "source": [
        "import tomotopy as tp\n",
        "import pandas as pd\n",
        "from google.colab import drive\n",
        "drive.mount('/content/drive')"
      ],
      "execution_count": null,
      "outputs": []
    },
    {
      "cell_type": "code",
      "metadata": {
        "id": "7Df5SsKb3_BT"
      },
      "source": [
        "ldamodel = tp.LDAModel\n",
        "TermWeight = tp.TermWeight"
      ],
      "execution_count": null,
      "outputs": []
    },
    {
      "cell_type": "code",
      "metadata": {
        "id": "hcZN-km93Abz"
      },
      "source": [
        "def runByMonth(articles, month):\n",
        "  ldamodel = tp.LDAModel\n",
        "  TermWeight = tp.TermWeight\n",
        "  topics = 30\n",
        "  alphas = 0.01\n",
        "  etas = 0.05\n",
        "  rmtop = 100\n",
        "  mindf = 400\n",
        "  mincf = 300\n",
        "\n",
        "  corpus = tp.utils.Corpus(tokenizer=tp.utils.SimpleTokenizer())\n",
        "  corpus.process(articles)   \n",
        "  LDA = ldamodel(corpus = corpus, k = topics, alpha = alphas, eta= etas, seed= 9999, min_df = mindf, min_cf = mincf, rm_top=rmtop)\n",
        "  LDA.train(iter = 500)\n",
        "  LDA.save(\"/content/drive/My Drive/datasets/topicsByMonth/modelMonth{}.bin\".format(month), full = True)\n",
        "  LDA = None\n",
        "  corpus = None"
      ],
      "execution_count": null,
      "outputs": []
    },
    {
      "cell_type": "code",
      "metadata": {
        "id": "6YslCpYX5yhU"
      },
      "source": [
        "articles = pd.read_csv(\"/content/drive/My Drive/datasets/huff/preprocessedFixed.csv\")\n",
        "for i in range(1, 13):\n",
        "  corpusForProcessing = []\n",
        "  for article in articles.content[articles['month'] == i]:\n",
        "    if type(article) != float:\n",
        "      corpusForProcessing.append(article)\n",
        "  print(\"generating month \", i)\n",
        "  runByMonth(corpusForProcessing, i)\n",
        "  print(\"generated month \", i)"
      ],
      "execution_count": null,
      "outputs": []
    }
  ]
}