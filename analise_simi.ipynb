{
  "nbformat": 4,
  "nbformat_minor": 0,
  "metadata": {
    "colab": {
      "name": "analise simi",
      "provenance": [],
      "collapsed_sections": []
    },
    "kernelspec": {
      "name": "python3",
      "display_name": "Python 3"
    },
    "language_info": {
      "name": "python"
    }
  },
  "cells": [
    {
      "cell_type": "code",
      "metadata": {
        "colab": {
          "base_uri": "https://localhost:8080/"
        },
        "id": "vZlqJQIUUvnb",
        "outputId": "35e409f5-6b1d-4084-fc26-0ed8f3232aaf"
      },
      "source": [
        "from google.colab import drive\n",
        "drive.mount('/content/drive')\n",
        "import pandas as pd\n",
        "import numpy as np\n",
        "import matplotlib.pyplot as plt\n",
        "import matplotlib.pyplot as plt\n",
        "\n",
        "import seaborn as sb\n",
        "import re"
      ],
      "execution_count": null,
      "outputs": [
        {
          "output_type": "stream",
          "text": [
            "Mounted at /content/drive\n"
          ],
          "name": "stdout"
        }
      ]
    },
    {
      "cell_type": "code",
      "metadata": {
        "id": "CsTiyAvJyxri"
      },
      "source": [
        "import statistics as st\n",
        "import scipy.stats as ss"
      ],
      "execution_count": null,
      "outputs": []
    },
    {
      "cell_type": "code",
      "metadata": {
        "id": "2lTQniHXVCOS"
      },
      "source": [
        "\n",
        "## matrizes das similaridades usando as top-50 palavras dos topicos\n",
        "for m in range(1,12):\n",
        "  mat = pd.read_csv('/content/drive/My Drive/datasets/articles/monthPre/final/arquivos meses/modelos/meses/mesesTopicos/matrizes M com M+1/rowMes{}colMes{}.csv'.format(m, m+1))\n",
        "  mat.drop('Unnamed: 0',inplace=True, axis=1)"
      ],
      "execution_count": null,
      "outputs": []
    },
    {
      "cell_type": "code",
      "metadata": {
        "id": "-mA_vst3VYWa"
      },
      "source": [
        "mat = pd.read_csv('/content/drive/My Drive/datasets/articles/monthPre/final/arquivos meses/modelos/meses/mesesTopicos/matrizes M com M+1/rowMes{}colMes{}.csv'.format(m, m+1))\n",
        "mat.drop('Unnamed: 0',inplace=True, axis=1)"
      ],
      "execution_count": null,
      "outputs": []
    },
    {
      "cell_type": "code",
      "metadata": {
        "id": "Zwz8dP5VVZuK"
      },
      "source": [
        "m= mat.to_numpy()[:,1:]"
      ],
      "execution_count": null,
      "outputs": []
    },
    {
      "cell_type": "code",
      "metadata": {
        "id": "50cgC9p3WfLD"
      },
      "source": [
        "maxValues = []\n",
        "minValues = []"
      ],
      "execution_count": null,
      "outputs": []
    },
    {
      "cell_type": "code",
      "metadata": {
        "id": "QiAH3LCHWh7r"
      },
      "source": [
        "for m in range(1,12):\n",
        "  mat = pd.read_csv('/content/drive/My Drive/datasets/articles/monthPre/final/arquivos meses/modelos/meses/mesesTopicos/matrizes M com M+1/rowMes{}colMes{}.csv'.format(m, m+1))\n",
        "  mat.drop('Unnamed: 0',inplace=True, axis=1)\n",
        "  m = mat.to_numpy()[:,1:]\n",
        "  for t in range(30):\n",
        "    maxValues.append(m[t].max())\n",
        "    minValues.append(m[t].min())"
      ],
      "execution_count": null,
      "outputs": []
    },
    {
      "cell_type": "code",
      "metadata": {
        "id": "y7u4gGLAVkCy"
      },
      "source": [
        "arrMax = np.array(maxValues)\n",
        "arrMin = np.array(minValues)"
      ],
      "execution_count": null,
      "outputs": []
    },
    {
      "cell_type": "code",
      "metadata": {
        "colab": {
          "base_uri": "https://localhost:8080/"
        },
        "id": "19GugiMDw48i",
        "outputId": "585ca6a2-d608-40ba-d9bd-f7bdc11046e6"
      },
      "source": [
        "print(\"Menor valor das melhores similaridades entre os topicos\", arrMax.min())\n",
        "print(\"Media das melhores similaridades entre os topicos\", arrMax.mean())\n",
        "print(\"Desvio padrão\", arrMax.std())"
      ],
      "execution_count": null,
      "outputs": [
        {
          "output_type": "stream",
          "text": [
            "Menor valor das melhores similaridades entre os topicos 0.3173777759075165\n",
            "Media das melhores similaridades entre os topicos 0.8509182564236901\n",
            "Desvio padrão 0.16657969895045374\n"
          ],
          "name": "stdout"
        }
      ]
    },
    {
      "cell_type": "code",
      "metadata": {
        "colab": {
          "base_uri": "https://localhost:8080/"
        },
        "id": "eUdr4551y1Iq",
        "outputId": "cf445a99-48d4-4d34-83c0-90bfa4c12b14"
      },
      "source": [
        "st.mean(maxValues)"
      ],
      "execution_count": null,
      "outputs": [
        {
          "output_type": "execute_result",
          "data": {
            "text/plain": [
              "0.8509182564236901"
            ]
          },
          "metadata": {
            "tags": []
          },
          "execution_count": 54
        }
      ]
    },
    {
      "cell_type": "code",
      "metadata": {
        "colab": {
          "base_uri": "https://localhost:8080/"
        },
        "id": "jh61rAg4XZyL",
        "outputId": "2d310f4e-a529-4c4d-c7dd-ac66036f2787"
      },
      "source": [
        "arrMax.min() + arrMax.std() #abaixo disso topicos morreram "
      ],
      "execution_count": null,
      "outputs": [
        {
          "output_type": "execute_result",
          "data": {
            "text/plain": [
              "0.48395747485797025"
            ]
          },
          "metadata": {
            "tags": []
          },
          "execution_count": 39
        }
      ]
    },
    {
      "cell_type": "code",
      "metadata": {
        "colab": {
          "base_uri": "https://localhost:8080/"
        },
        "id": "aly8neQPY0pb",
        "outputId": "479d7632-ea86-4be1-88ef-10e880ced23f"
      },
      "source": [
        "print(\"abaixo de {} topicos morreram, entre {} e  {} tiveram uma mudança simples e maiores do que {} continuam o mesmo \".format((arrMax.min() + arrMax.std()), (arrMax.min() + arrMax.std()), (arrMax.mean()),  (arrMax.mean()) ))"
      ],
      "execution_count": null,
      "outputs": [
        {
          "output_type": "stream",
          "text": [
            "abaixo de 0.48395747485797025 topicos morreram, entre 0.48395747485797025 e  0.8509182564236901 tiveram uma mudança simples e maiores do que 0.8509182564236901 continuam o mesmo \n"
          ],
          "name": "stdout"
        }
      ]
    },
    {
      "cell_type": "markdown",
      "metadata": {
        "id": "JY_gLATGankX"
      },
      "source": [
        "Topicos abaixo de 0.484 morrem\n",
        "\n",
        "Topicos entre 0.484 e 0.60 se tiverem outro topico que somado a probabilidade  passa de 0.9 é split\n",
        "\n",
        "Topicos entra 0.484 e 0.85 que nao splitaram são similares\n",
        "\n",
        "Topicos maiores que 0.85 são os mesmos ou muito similares\n",
        "\n",
        "Merge acontece \"naturalmente\" quando um ou mais topicos anteriores se ligam em um topico posterior "
      ]
    },
    {
      "cell_type": "code",
      "metadata": {
        "id": "UYQKg4VqASQS"
      },
      "source": [
        "def merged_topics(df, month, died, splitd):\n",
        "  posCounts = df.pos.value_counts()\n",
        "  ts = posCounts.keys()\n",
        "  topicsMerg = []\n",
        "  merged = []\n",
        "  for t in ts:\n",
        "    if posCounts[t] > 1:\n",
        "      topicsMerg.append(t)\n",
        "  for t in topicsMerg:\n",
        "    ant = df.ant[df.pos == t]\n",
        "    \n",
        "    for at in ant:\n",
        "      if at not in died and at not in splitd:\n",
        "        tpc = df.antTopic[df.ant == at]\n",
        "        print('** topico', at)\n",
        "        [print(word) for word in tpc.values]\n",
        "        merged.append(at)\n",
        "\n",
        "    print(\"*****MERGED topic\", t, 'month', m+1)\n",
        "    topicPos = df.posTopic[df.pos == t]\n",
        "    print(topicPos.values[0])\n",
        "    print('\\n')\n",
        "  return merged\n",
        "\n"
      ],
      "execution_count": null,
      "outputs": []
    },
    {
      "cell_type": "code",
      "metadata": {
        "id": "Zbj3bVTzQIHH"
      },
      "source": [
        "topics= [str(i) for i in range(30)]"
      ],
      "execution_count": null,
      "outputs": []
    },
    {
      "cell_type": "code",
      "metadata": {
        "id": "Pr1nrHnBvtRP"
      },
      "source": [
        "def split(m, df):\n",
        "  splitd = []\n",
        "  mesX = pd.read_csv('/content/drive/My Drive/datasets/articles/monthPre/final/arquivos meses/modelos/meses/mesesTopicos/topicos/topicosMes{}.csv'.format(m))\n",
        "  mesY = pd.read_csv('/content/drive/My Drive/datasets/articles/monthPre/final/arquivos meses/modelos/meses/mesesTopicos/topicos/topicosMes{}.csv'.format(m+1))\n",
        "\n",
        "  Mat=pd.read_csv('/content/drive/My Drive/datasets/articles/monthPre/final/arquivos meses/modelos/meses/mesesTopicos/matrizes M com M+1/rowMes{}colMes{}.csv'.format(m, m+1))\n",
        "  Mat.drop('Unnamed: 0',inplace=True, axis=1)\n",
        "  mat=Mat.to_numpy()[:,1:]\n",
        "  for tAt, linha in enumerate(mat):\n",
        "    maior = 0\n",
        "    t = 0\n",
        "    for tPos, col in enumerate(linha):\n",
        "      if col > maior:\n",
        "        maior = col\n",
        "        t = tPos\n",
        "    \n",
        "    if maior > 0.48 and maior <= 0.6:\n",
        "        tSplit = -1\n",
        "        probSplit = -1\n",
        "        for tPos, col in enumerate(linha):\n",
        "          if tPos != t:\n",
        "            if (col + maior) >= 0.90:\n",
        "              tSplit = tPos\n",
        "              probSplit = col;\n",
        "        if tSplit != -1 and probSplit != -1:\n",
        "          splitd.append(tAt)\n",
        "          topicoAtual = mesX.loc[[tAt]].topicosSemProb.values[0]\n",
        "          topicoSplit = mesY.loc[[tSplit]].topicosSemProb.values[0]\n",
        "          topicoMaior = mesY.loc[[t]].topicosSemProb.values[0]\n",
        "          \n",
        "          #print('{} tSplit {}:{} e {}:{}'.format(tAct, tSplit, probSplit, t, maior))\n",
        "          print(\"**topico {} month {} \\n {} \\n * SPLIT month {} \\n *topico {}: {} \\n *topico {}: {}\\n\".format(tAt, m, topicoAtual, m+1, tSplit, topicoSplit, t, topicoMaior))\n",
        "  return splitd"
      ],
      "execution_count": null,
      "outputs": []
    },
    {
      "cell_type": "markdown",
      "metadata": {
        "id": "WUKakLA4k8ow"
      },
      "source": [
        "WRITE TXT\n"
      ]
    },
    {
      "cell_type": "code",
      "metadata": {
        "id": "Ip3VkDjlmIXZ"
      },
      "source": [
        "def merged_topicsw(df, month, f, died, splitd):\n",
        "  posCounts = df.pos.value_counts()\n",
        "  ts = posCounts.keys()\n",
        "  merged = []\n",
        "  topicsMerg = []\n",
        "  for t in ts:\n",
        "    if posCounts[t] > 1:\n",
        "      topicsMerg.append(t)\n",
        "  for t in topicsMerg:\n",
        "    ant = df.ant[df.pos == t] \n",
        "    for at in ant:\n",
        "      if at not in died and at not in splitd:\n",
        "        tpc = df.antTopic[df.ant == at]\n",
        "        f.write('** topico {}\\n'.format( at+ 1))\n",
        "        [f.write(word) for word in tpc.values]\n",
        "        f.write('\\n')\n",
        "        merged.append(at)\n",
        "\n",
        "    f.write(\"*****MERGED topic {} month {}\\n\".format(t+ 1, m+1))\n",
        "    topicPos = df.posTopic[df.pos == t]\n",
        "    f.write(topicPos.values[0])\n",
        "    f.write('\\n\\n\\n')\n",
        "  return merged\n",
        "\n",
        "def splitw(m, df, f):\n",
        "  splitd = []\n",
        "  mesX = pd.read_csv('/content/drive/My Drive/datasets/articles/monthPre/final/arquivos meses/modelos/meses/mesesTopicos/topicos/topicosMes{}.csv'.format(m))\n",
        "  mesY = pd.read_csv('/content/drive/My Drive/datasets/articles/monthPre/final/arquivos meses/modelos/meses/mesesTopicos/topicos/topicosMes{}.csv'.format(m+1))\n",
        "\n",
        "  Mat=pd.read_csv('/content/drive/My Drive/datasets/articles/monthPre/final/arquivos meses/modelos/meses/mesesTopicos/matrizes M com M+1/rowMes{}colMes{}.csv'.format(m, m+1))\n",
        "  Mat.drop('Unnamed: 0',inplace=True, axis=1)\n",
        "  mat=Mat.to_numpy()[:,1:]\n",
        "  for tAt, linha in enumerate(mat):\n",
        "    maior = 0\n",
        "    t = 0\n",
        "    for tPos, col in enumerate(linha):\n",
        "      if col > maior:\n",
        "        maior = col\n",
        "        t = tPos\n",
        "    \n",
        "    if maior > 0.48 and maior <= 0.6:\n",
        "        tSplit = -1\n",
        "        probSplit = -1\n",
        "        for tPos, col in enumerate(linha):\n",
        "          if tPos != t:\n",
        "            if (col + maior) >= 0.90:\n",
        "              tSplit = tPos\n",
        "              probSplit = col;\n",
        "        if tSplit != -1 and probSplit != -1:\n",
        "          splitd.append(tAt)\n",
        "          topicoAtual = \", \".join(w for w in mesX.loc[[tAt]].topicosSemProb.values[0].split(',')[0:11])\n",
        "          topicoSplit = \", \".join(w for w in mesY.loc[[tSplit]].topicosSemProb.values[0].split(',')[0:11])\n",
        "          topicoMaior = \", \".join(w for w in mesY.loc[[t]].topicosSemProb.values[0].split(',')[0:11])\n",
        "          \n",
        "          #print('{} tSplit {}:{} e {}:{}'.format(tAct, tSplit, probSplit, t, maior))\n",
        "          f.write(\"\\n**topico {} month {} \\n {} \\n ****SPLIT month {} \\n *topico {}: {} \\n *topico {}: {}\\n\".format(tAt+1, m, topicoAtual, m+1, tSplit+1, topicoSplit, t+1, topicoMaior))\n",
        "  return splitd"
      ],
      "execution_count": null,
      "outputs": []
    },
    {
      "cell_type": "code",
      "metadata": {
        "id": "A70DB826lC4g"
      },
      "source": [
        "for m in range(1, 12):\n",
        "  f  = open(('/content/drive/My Drive/datasets/articles/monthPre/final/arquivos meses/modelos/meses/mesesTopicos/txt/mes{}com{}.txt'.format(m, m+1)), 'w')\n",
        "  df = pd.read_csv('/content/drive/My Drive/datasets/articles/monthPre/final/arquivos meses/modelos/meses/mesesTopicos/track/M com M+1/mes{}com{}.csv'.format(m, m+1))\n",
        "  f.write(\"\\n\\n ************** MES {} COM {} *******************\".format(m, m+1))\n",
        "\n",
        "  f.write(\"\\n -------------------------DIED/BORN \\n\\n\")\n",
        "  died = []\n",
        "  for row in df.itertuples():\n",
        "    if row.prob <= 0.484: ##DIED\n",
        "      died.append(row.ant)\n",
        "      f.write('\\n')\n",
        "      f.write('-> {}\\n'.format(round(row.prob, 4)))\n",
        "      f.write(\"**DIED M{}: {} - {}\\n\".format(m, row.ant + 1,row.antTopic,))\n",
        "      f.write(\"****BORN M{}: {} - {}\\n\".format(m+1, row.pos+ 1, row.posTopic))\n",
        "\n",
        "  f.write('\\n ------------------------- SPLIT\\n\\n')  \n",
        "  spltd = splitw(m, df, f)\n",
        "\n",
        "  f.write('\\n ------------------------- MERGE \\n\\n')  \n",
        "  merged = merged_topicsw(df, m, f, died, spltd)\n",
        "  \n",
        "  f.write(\"\\n ------------------------SIMILIAR \\n\\n\")\n",
        "  for row in df.itertuples():\n",
        "    if row.ant not in merged and row.ant not in spltd:\n",
        "      if row.prob > 0.484 and row.prob <= 0.85:\n",
        "        f.write('\\n')\n",
        "        f.write('-> {}\\n'.format(round(row.prob, 4)))\n",
        "        f.write(\"**M{} - {} - {}\\n\".format(m, row.ant+ 1,row.antTopic))\n",
        "        f.write(\"****M{} - {} - {}\\n\".format(m+1, row.pos+ 1,row.posTopic))\n",
        "\n",
        "  f.write('\\n -------------------------SAME \\n\\n')\n",
        "  for row in df.itertuples():\n",
        "    if row.ant not in merged and row.ant not in spltd:\n",
        "      if row.prob > 0.85:\n",
        "        f.write('\\n')\n",
        "        f.write('-> {}\\n'.format(round(row.prob, 4)))\n",
        "        f.write(\"**M{} - {} - {}\\n\".format(m, row.ant+ 1,row.antTopic))\n",
        "        f.write(\"****M{} - {} - {}\\n\".format(m+1, row.pos+ 1,row.posTopic))\n",
        "  f.close()\n"
      ],
      "execution_count": null,
      "outputs": []
    },
    {
      "cell_type": "markdown",
      "metadata": {
        "id": "YXArwDMFYaHq"
      },
      "source": [
        "## tracking"
      ]
    },
    {
      "cell_type": "code",
      "metadata": {
        "id": "08jEebHLdP3j"
      },
      "source": [
        "df = pd.read_csv('/content/drive/My Drive/datasets/articles/monthPre/final/arquivos meses/modelos/meses/mesesTopicos/track/M com M+1/mes{}com{}.csv'.format(1, 2))"
      ],
      "execution_count": null,
      "outputs": []
    },
    {
      "cell_type": "code",
      "metadata": {
        "id": "21J0uSCInxj4"
      },
      "source": [
        "df = pd.read_csv('/content/drive/My Drive/datasets/articles/monthPre/final/arquivos meses/modelos/meses/mesesTopicos/track/M com M+1/mes{}com{}.csv'.format(1, 2))"
      ],
      "execution_count": null,
      "outputs": []
    },
    {
      "cell_type": "code",
      "metadata": {
        "id": "u4WTM7HdqcfJ"
      },
      "source": [
        "ant = []\n",
        "pos = []"
      ],
      "execution_count": null,
      "outputs": []
    },
    {
      "cell_type": "code",
      "metadata": {
        "id": "TVj8YBpXrfjx"
      },
      "source": [
        "posBirth = []"
      ],
      "execution_count": null,
      "outputs": []
    },
    {
      "cell_type": "code",
      "metadata": {
        "colab": {
          "base_uri": "https://localhost:8080/"
        },
        "id": "KlwPv6SMrSjG",
        "outputId": "278b1765-29ac-49aa-d4d6-b602d40eb63a"
      },
      "source": [
        "posBirth"
      ],
      "execution_count": null,
      "outputs": [
        {
          "output_type": "execute_result",
          "data": {
            "text/plain": [
              "[15, 28, 8]"
            ]
          },
          "metadata": {
            "tags": []
          },
          "execution_count": 26
        }
      ]
    },
    {
      "cell_type": "code",
      "metadata": {
        "id": "TdIWTDa5oSby"
      },
      "source": [
        "for row in df.itertuples():\n",
        "  ant.append(row.ant)\n",
        "  if row.prob <= 0.484:\n",
        "    pos.append(None)\n",
        "    posBirth.append(row.pos)\n",
        "  else:\n",
        "    pos.append(row.pos)"
      ],
      "execution_count": null,
      "outputs": []
    },
    {
      "cell_type": "code",
      "metadata": {
        "id": "_33NIghhQ-4v"
      },
      "source": [
        "def splitTrack(m):\n",
        "  splitd = {}\n",
        "  mesX = pd.read_csv('/content/drive/My Drive/datasets/articles/monthPre/final/arquivos meses/modelos/meses/mesesTopicos/topicos/topicosMes{}.csv'.format(m))\n",
        "  mesY = pd.read_csv('/content/drive/My Drive/datasets/articles/monthPre/final/arquivos meses/modelos/meses/mesesTopicos/topicos/topicosMes{}.csv'.format(m+1))\n",
        "\n",
        "  Mat=pd.read_csv('/content/drive/My Drive/datasets/articles/monthPre/final/arquivos meses/modelos/meses/mesesTopicos/matrizes M com M+1/rowMes{}colMes{}.csv'.format(m, m+1))\n",
        "  Mat.drop('Unnamed: 0',inplace=True, axis=1)\n",
        "  mat=Mat.to_numpy()[:,1:]\n",
        "  for tAt, linha in enumerate(mat):\n",
        "    maior = 0\n",
        "    t = 0\n",
        "    for tPos, col in enumerate(linha):\n",
        "      if col > maior:\n",
        "        maior = col\n",
        "        t = tPos\n",
        "    #se a prob esta entre 0.484 e 0.6, então verifica se tem outra probabilidade que somado com a atual passa de 0.90, configurando um split.\n",
        "    if maior > 0.484 and maior <= 0.6:\n",
        "        tSplit = -1\n",
        "        probSplit = -1\n",
        "        for tPos, col in enumerate(linha):\n",
        "          if tPos != t:\n",
        "            if (col + maior) >= 0.90:\n",
        "              tSplit = tPos\n",
        "              probSplit = col;\n",
        "        if tSplit != -1 and probSplit != -1:\n",
        "          splitd[tAt] = []\n",
        "          splitd[tAt].append(tSplit+1)\n",
        "          splitd[tAt].append(t+1)\n",
        "          topicoAtual = mesX.loc[[tAt]].topicosSemProb.values[0]\n",
        "          topicoSplit = mesY.loc[[tSplit]].topicosSemProb.values[0]\n",
        "          topicoMaior = mesY.loc[[t]].topicosSemProb.values[0]\n",
        "          \n",
        "          #print('{} tSplit {}:{} e {}:{}'.format(tAct, tSplit, probSplit, t, maior))\n",
        "          #print(\"**topico {} month {} \\n {} \\n * SPLIT month {} \\n *topico {}: {} \\n *topico {}: {}\\n\".format(tAt, m, topicoAtual, m+1, tSplit, topicoSplit, t, topicoMaior))\n",
        "  return splitd"
      ],
      "execution_count": null,
      "outputs": []
    },
    {
      "cell_type": "code",
      "metadata": {
        "id": "9vE8kGLSVY7v"
      },
      "source": [
        "t = splitTrack(3)"
      ],
      "execution_count": null,
      "outputs": []
    },
    {
      "cell_type": "code",
      "metadata": {
        "colab": {
          "base_uri": "https://localhost:8080/"
        },
        "id": "bUPI3KODZw2y",
        "outputId": "e3894e4f-5c0c-4f23-86c7-15202fd741b2"
      },
      "source": [
        "t"
      ],
      "execution_count": null,
      "outputs": [
        {
          "output_type": "execute_result",
          "data": {
            "text/plain": [
              "{0: [13, 1], 18: [8, 2]}"
            ]
          },
          "metadata": {
            "tags": []
          },
          "execution_count": 138
        }
      ]
    },
    {
      "cell_type": "code",
      "metadata": {
        "id": "qvGxmteRagYe"
      },
      "source": [
        "dfDict = {\n",
        "          'm1': [],\n",
        "          'm1c2': [],\n",
        "          'm2': [],\n",
        "          'm2c3': [],\n",
        "          'm3': [],\n",
        "          'm3c4': [],\n",
        "          'm4': [],\n",
        "          'm4c5': [],\n",
        "          'm5': [],\n",
        "          'm5c6': [],\n",
        "          'm6': [],\n",
        "          'm6c7': [],\n",
        "          'm7': [],\n",
        "          'm7c8': [],\n",
        "          'm8': [],\n",
        "          'm8c9': [],\n",
        "          'm9': [],\n",
        "          'm9c10':[],\n",
        "          'm10': [],\n",
        "          'm10c11': [],\n",
        "          'm11': [],\n",
        "          'm11c12': [],\n",
        "          }"
      ],
      "execution_count": null,
      "outputs": []
    },
    {
      "cell_type": "code",
      "metadata": {
        "id": "QGU8I003nsO6"
      },
      "source": [
        "posB = []\n",
        "for m in [1,2,3,4,5,6,7,8,9,10,11]:\n",
        "  ant = []\n",
        "  pos =[]\n",
        "  \n",
        "  dfm = df = pd.read_csv('/content/drive/My Drive/datasets/articles/monthPre/final/arquivos meses/modelos/meses/mesesTopicos/track/M com M+1/mes{}com{}.csv'.format(m, m+1))\n",
        "\n",
        "  splt = splitTrack(m)\n",
        "  for row in df.itertuples():\n",
        "    if row.ant in splt.keys():\n",
        "      ant.append(row.ant+1)\n",
        "      spltStr = \", \".join(str(v) for v in splt[row.ant])\n",
        "      pos.append(spltStr)\n",
        "    elif row.prob <= 0.484:\n",
        "      pos.append(row.pos + 1)\n",
        "      #pos.append(None)\n",
        "      ant.append(-1*(row.ant + 1))\n",
        "    else:\n",
        "      ant.append(row.ant + 1)\n",
        "      pos.append(row.pos + 1)\n",
        "    \n",
        "  key1 = 'm{}'.format(m)\n",
        "  key2 = 'm{}c{}'.format(m, m+1)\n",
        "\n",
        "  for a in ant:\n",
        "    dfDict[key1].append(a)\n",
        "  \n",
        "  for p in pos:\n",
        "    dfDict[key2].append(p)\n"
      ],
      "execution_count": null,
      "outputs": []
    },
    {
      "cell_type": "code",
      "metadata": {
        "id": "ZVlXfQ4vwH9a"
      },
      "source": [
        "for k in dfDict.keys():\n",
        "  print(len(dfDict[k]))"
      ],
      "execution_count": null,
      "outputs": []
    },
    {
      "cell_type": "code",
      "metadata": {
        "id": "x5_TVkPIv-ry"
      },
      "source": [
        "save = pd.DataFrame.from_dict(dfDict)"
      ],
      "execution_count": null,
      "outputs": []
    },
    {
      "cell_type": "code",
      "metadata": {
        "id": "BpLnD3rEwb5D"
      },
      "source": [
        "save.to_csv(\"/content/drive/My Drive/datasets/articles/monthPre/final/arquivos meses/modelos/meses/mesesTopicos/testeDiagram.csv\")"
      ],
      "execution_count": null,
      "outputs": []
    },
    {
      "cell_type": "markdown",
      "metadata": {
        "id": "8kcT9dybggqg"
      },
      "source": [
        "##tracking 2\n"
      ]
    },
    {
      "cell_type": "code",
      "metadata": {
        "id": "YsI4qlaNqLNZ"
      },
      "source": [
        "dfDict = {'m1': [], 'm2':[], 'm3': [], 'm4':[], 'm5': [], 'm6': [], 'm7': [], 'm8': [], 'm9': [], 'm10': [], 'm11': [], 'm12': []}"
      ],
      "execution_count": null,
      "outputs": []
    },
    {
      "cell_type": "code",
      "metadata": {
        "id": "ykdSa3FwgjSY"
      },
      "source": [
        "for topic in range(30):\n",
        "  t = topic\n",
        "  \n",
        "  for m in [1,2,3,4,5,6,7,8,9,10,11]:\n",
        "    \n",
        "    dfm = df = pd.read_csv('/content/drive/My Drive/datasets/articles/monthPre/final/arquivos meses/modelos/meses/mesesTopicos/track/M com M+1/mes{}com{}.csv'.format(m, m+1))\n",
        "    pos = dfm.pos[ dfm.ant == t ]\n",
        "    ant = dfm.ant[ dfm.ant == t ]\n",
        "    ant = ant.values[0]\n",
        "    prob = dfm.prob[ dfm.ant == t]\n",
        "    prob = prob.values[0]\n",
        "\n",
        "    if prob <= 0.484:\n",
        "      dfDict['m{}'.format(m)].append(-1*(ant + 1))\n",
        "    else:\n",
        "      dfDict['m{}'.format(m)].append(ant + 1)\n",
        "    if m == 11:\n",
        "      dfDict['m12'].append(pos.values[0])\n",
        "  \n",
        "    t = pos.values[0]"
      ],
      "execution_count": null,
      "outputs": []
    },
    {
      "cell_type": "code",
      "metadata": {
        "id": "gyQhLLn90T_J"
      },
      "source": [
        "for k in dfDict.keys():\n",
        "  print(len(dfDict[k]))"
      ],
      "execution_count": null,
      "outputs": []
    },
    {
      "cell_type": "code",
      "metadata": {
        "id": "s01CeINnqRHL"
      },
      "source": [
        "dfDict['m2']"
      ],
      "execution_count": null,
      "outputs": []
    },
    {
      "cell_type": "code",
      "metadata": {
        "id": "vPL5IPO2qOz4"
      },
      "source": [
        "save = pd.DataFrame.from_dict(dfDict)"
      ],
      "execution_count": null,
      "outputs": []
    },
    {
      "cell_type": "code",
      "metadata": {
        "id": "h1gSXXLUrq85"
      },
      "source": [
        "save.to_csv(\"/content/drive/My Drive/datasets/articles/monthPre/final/arquivos meses/modelos/meses/mesesTopicos/vis2.csv\")"
      ],
      "execution_count": null,
      "outputs": []
    },
    {
      "cell_type": "code",
      "metadata": {
        "id": "2W0TlBx02Y1q"
      },
      "source": [
        "save"
      ],
      "execution_count": null,
      "outputs": []
    },
    {
      "cell_type": "markdown",
      "metadata": {
        "id": "owDXYZtvfRL4"
      },
      "source": [
        "##tracking 3\n"
      ]
    }
  ]
}