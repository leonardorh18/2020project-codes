{
  "nbformat": 4,
  "nbformat_minor": 0,
  "metadata": {
    "colab": {
      "name": "gerando matrizes",
      "provenance": []
    },
    "kernelspec": {
      "name": "python3",
      "display_name": "Python 3"
    },
    "language_info": {
      "name": "python"
    }
  },
  "cells": [
    {
      "cell_type": "code",
      "execution_count": null,
      "metadata": {
        "colab": {
          "base_uri": "https://localhost:8080/"
        },
        "id": "I8nXsyEGX534",
        "outputId": "d42cc13c-d43e-415f-98ee-48408b9ee94b"
      },
      "outputs": [
        {
          "output_type": "stream",
          "name": "stdout",
          "text": [
            "Drive already mounted at /content/drive; to attempt to forcibly remount, call drive.mount(\"/content/drive\", force_remount=True).\n"
          ]
        }
      ],
      "source": [
        "from gensim.models.coherencemodel import CoherenceModel\n",
        "import pandas as pd\n",
        "import time\n",
        "import gc\n",
        "from google.colab import drive\n",
        "drive.mount('/content/drive')"
      ]
    },
    {
      "cell_type": "code",
      "source": [
        "!pip3 install tomotopy "
      ],
      "metadata": {
        "colab": {
          "base_uri": "https://localhost:8080/"
        },
        "id": "n1nhNEXTYAfp",
        "outputId": "1b89ebcd-1a29-4bb3-9d70-44cced8a4632"
      },
      "execution_count": null,
      "outputs": [
        {
          "output_type": "stream",
          "name": "stdout",
          "text": [
            "Looking in indexes: https://pypi.org/simple, https://us-python.pkg.dev/colab-wheels/public/simple/\n",
            "Collecting tomotopy\n",
            "  Downloading tomotopy-0.12.2-cp37-cp37m-manylinux_2_12_x86_64.manylinux2010_x86_64.whl (16.3 MB)\n",
            "\u001b[K     |████████████████████████████████| 16.3 MB 5.2 MB/s \n",
            "\u001b[?25hRequirement already satisfied: numpy>=1.11.0 in /usr/local/lib/python3.7/dist-packages (from tomotopy) (1.21.6)\n",
            "Installing collected packages: tomotopy\n",
            "Successfully installed tomotopy-0.12.2\n"
          ]
        }
      ]
    },
    {
      "cell_type": "code",
      "source": [
        "import tomotopy as tp"
      ],
      "metadata": {
        "id": "8diB-0cyYCEB"
      },
      "execution_count": null,
      "outputs": []
    },
    {
      "cell_type": "code",
      "source": [
        "LDA = tp.LDAModel"
      ],
      "metadata": {
        "id": "eRNbV0yVYdNy"
      },
      "execution_count": null,
      "outputs": []
    },
    {
      "cell_type": "code",
      "source": [
        "lda1 = LDA.load('/content/drive/My Drive/datasets/articles/monthPre/final/arquivos meses/modelos/meses/2020project/modelByMonth/modelMonth1.bin')\n",
        "lda2 = LDA.load('/content/drive/My Drive/datasets/articles/monthPre/final/arquivos meses/modelos/meses/2020project/modelByMonth/modelMonth2.bin')"
      ],
      "metadata": {
        "id": "d-oJZYqZYnSQ"
      },
      "execution_count": null,
      "outputs": []
    },
    {
      "cell_type": "code",
      "source": [
        "topicDoc = \" \".join(w[0] for w in lda1.get_topic_words(0, top_n = 50))"
      ],
      "metadata": {
        "id": "AHOaM4Tfb8jB"
      },
      "execution_count": null,
      "outputs": []
    },
    {
      "cell_type": "code",
      "source": [
        "topicDoc = [w[0] for w in lda1.get_topic_words(0, top_n = 50)]"
      ],
      "metadata": {
        "id": "mnivwGzqclNY"
      },
      "execution_count": null,
      "outputs": []
    },
    {
      "cell_type": "code",
      "source": [
        "topicDoc"
      ],
      "metadata": {
        "id": "GHIsbCgXcx6H"
      },
      "execution_count": null,
      "outputs": []
    },
    {
      "cell_type": "code",
      "source": [
        "arr = lda2.infer(lda2.make_doc(topicDoc), iter= 1000)"
      ],
      "metadata": {
        "id": "ptogHPmCcNMQ"
      },
      "execution_count": null,
      "outputs": []
    },
    {
      "cell_type": "code",
      "source": [
        "for month in range(1,12):\n",
        "\n",
        "  mDict = {'topico': []}\n",
        "  for i in range(30):\n",
        "    mDict[i] = []\n",
        "\n",
        "  lda1 = LDA.load(f'/content/drive/My Drive/datasets/articles/monthPre/final/arquivos meses/modelos/meses/2020project/modelByMonth/modelMonth{month}.bin')\n",
        "  lda2 = LDA.load(f'/content/drive/My Drive/datasets/articles/monthPre/final/arquivos meses/modelos/meses/2020project/modelByMonth/modelMonth{month+1}.bin')\n",
        "  for k in range(lda1.k):\n",
        "    topicDoc = [w[0] for w in lda1.get_topic_words(k, top_n = 50)]\n",
        "    arr = lda2.infer(lda2.make_doc(topicDoc), iter= 1000)\n",
        "    arr = arr[0]\n",
        "    mDict['topico'].append(k)\n",
        "    for index, i in enumerate(arr):\n",
        "      #print(index, i)\n",
        "      mDict[index].append(i)\n",
        "  matrixCsv = pd.DataFrame.from_dict(mDict)\n",
        "  matrixCsv.to_csv(f'rowMes{month}colMes{month+1}.csv')"
      ],
      "metadata": {
        "id": "C1G3LY87Yytx"
      },
      "execution_count": null,
      "outputs": []
    }
  ]
}