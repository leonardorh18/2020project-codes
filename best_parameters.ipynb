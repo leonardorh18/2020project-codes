{
  "nbformat": 4,
  "nbformat_minor": 0,
  "metadata": {
    "colab": {
      "name": " best parameters",
      "provenance": [],
      "collapsed_sections": []
    },
    "kernelspec": {
      "display_name": "Python 3",
      "name": "python3"
    }
  },
  "cells": [
    {
      "cell_type": "code",
      "metadata": {
        "id": "CtNrFW8-dubf",
        "colab": {
          "base_uri": "https://localhost:8080/"
        },
        "outputId": "8a0e8c2c-980e-4ad4-cc1c-8ff54d33b6cd"
      },
      "source": [
        "from gensim.models.coherencemodel import CoherenceModel\n",
        "import pandas as pd\n",
        "import time\n",
        "import gc\n",
        "from google.colab import drive\n",
        "drive.mount('/content/drive')"
      ],
      "execution_count": null,
      "outputs": [
        {
          "output_type": "stream",
          "text": [
            "Mounted at /content/drive\n"
          ],
          "name": "stdout"
        }
      ]
    },
    {
      "cell_type": "code",
      "metadata": {
        "id": "DJjoHPJad5Pr"
      },
      "source": [
        "!pip3 install tomotopy "
      ],
      "execution_count": null,
      "outputs": []
    },
    {
      "cell_type": "code",
      "metadata": {
        "id": "3Gjhr2dFd6Qk"
      },
      "source": [
        "!pip install numpy --upgrade --user"
      ],
      "execution_count": null,
      "outputs": []
    },
    {
      "cell_type": "code",
      "metadata": {
        "id": "GtyeST4Gd4J0"
      },
      "source": [
        "import tomotopy as tp"
      ],
      "execution_count": null,
      "outputs": []
    },
    {
      "cell_type": "code",
      "metadata": {
        "id": "toW9XjNDmCe0"
      },
      "source": [
        "df = pd.read_csv('/content/drive/My Drive/datasets/articles/monthPre/final/completo/preprocessedCompletoComBigrams.csv')\n",
        "ldamodel = tp.LDAModel\n",
        "TermWeight = tp.TermWeight"
      ],
      "execution_count": null,
      "outputs": []
    },
    {
      "cell_type": "code",
      "metadata": {
        "id": "REwlxotxh0b1"
      },
      "source": [
        "ldamodel = tp.LDAModel\n",
        "TermWeight = tp.TermWeight"
      ],
      "execution_count": null,
      "outputs": []
    },
    {
      "cell_type": "code",
      "metadata": {
        "id": "GYnF6lPpZVk-"
      },
      "source": [
        "co = tp.coherence"
      ],
      "execution_count": null,
      "outputs": []
    },
    {
      "cell_type": "code",
      "metadata": {
        "id": "hHn5DXiENveH"
      },
      "source": [
        "def topicos_sem_prob(LDA):\n",
        "  tp_lda = []\n",
        "  for k in range(LDA.k):\n",
        "    aux = []\n",
        "    lista = LDA.get_topic_words(k, top_n=20)\n",
        "    tp_lda.append([t[0] for t in lista])\n",
        "  topics = [] \n",
        "  for doc in tp_lda:\n",
        "    topics.append(\", \".join(word for word in doc))\n",
        "  return topics"
      ],
      "execution_count": null,
      "outputs": []
    },
    {
      "cell_type": "markdown",
      "metadata": {
        "id": "2OtPdohGyKvQ"
      },
      "source": [
        ""
      ]
    },
    {
      "cell_type": "code",
      "metadata": {
        "id": "p-Gf8KCyh2Tk"
      },
      "source": [
        "\n",
        "#coherenceDict = {'month': [], 'topic': [], 'iter': [], 'c_v':[], 'alpha': [], 'eta':[], 'mindf': [], 'mincf':[], 'rmtop': [], 'vocab': []}\n",
        "topics = [ 30, 35, 40, 45] #30,35,40 \n",
        "alphas = [0.1, 0.05, 0.01 ]\n",
        "etas = [ 0.1, 0.05, 0.01]\n",
        "rmtop =[50, 100, 200]\n",
        "mindf = [100, 200, 400] #min document frequency \n",
        "mincf = [200, 300, 400, 500]\n",
        "iter = 500\n",
        "months = [6] #1 ja foi\n",
        "for month in months:\n",
        "  bestCV = 0\n",
        "  coherenceDict = {'month': [], 'topic': [], 'iter': [], 'c_v':[], 'alpha': [], 'eta':[], 'mindf': [], 'mincf':[], 'rmtop': [], 'vocab': []}\n",
        "  init_month = time.perf_counter() \n",
        "  print(\"\\n\\n ---------------- MES {} ------------------------ \\n\\n\".format(month))\n",
        "  print(\"Quantidade de noticias nesse mes: {}\".format(df.content[df['month'] == month].shape[0]))\n",
        "  for t in topics:\n",
        "    for mcf in mincf:\n",
        "      for rm in rmtop:\n",
        "        for a in alphas:\n",
        "          for e in etas:\n",
        "            for mdf in mindf:\n",
        "              \n",
        "              gc.collect()\n",
        "              tic = time.perf_counter() ## time\n",
        "            \n",
        "              #corpus = tp.utils.Corpus(tokenizer=tp.utils.SimpleTokenizer())\n",
        "              #corpus.process(df.content[df['month'] == month])   \n",
        "              #LDA = ldamodel(corpus = corpus, tw= TermWeight.IDF, k= t, alpha= a, eta= e, seed= 9999, min_df =mdf, min_cf = mcf, rm_top=rm)\n",
        "              print(\"Gerando modelo...\")\n",
        "              LDA = ldamodel(tw= TermWeight.IDF, k= t, alpha= a, eta= e, seed= 9999, min_df =mdf, min_cf = mcf, rm_top=rm)\n",
        "              qntd = 0\n",
        "              for doc in df.content[df['month'] == month]:\n",
        "                qntd+=1\n",
        "                LDA.add_doc(doc.split(' '))\n",
        "              print(\"docs\", qntd)\n",
        "              print(\"Treinando...\")\n",
        "              LDA.train(iter = iter)\n",
        "              print(\"Coherence...\")\n",
        "              coh = co.Coherence(LDA, coherence= 'c_v', top_n=10 )\n",
        "              valuecv = coh.get_score()\n",
        "              print('Num docs:', len(LDA.docs), ' Num words', LDA.num_words, 'num vocabs', LDA.num_vocabs)\n",
        "              print(\"topic {} iter {} c_v {} alpha {} eta {} rm {} mindf {} mincf {} month {}\".format(t, iter, valuecv, a, e, rm, mdf, mcf, month))\n",
        "\n",
        "              if valuecv > bestCV:\n",
        "                bestCV = valuecv\n",
        "                print(\"Salvando melhor modelo para o mês {}...\".format(month))\n",
        "\n",
        "                init_t = time.perf_counter() ## time\n",
        "                LDA.save('/content/drive/My Drive/datasets/articles/monthPre/final/parametros/melhormodelo/melhorModeloMes{}C.bin'.format(month), full = True)\n",
        "                end_t = time.perf_counter()\n",
        "                print(\"Tempo para salvar o modelo {}s\".format(round((end_t - init_t), 2)))\n",
        "\n",
        "                print(\"Salvando melhores topicos do mes {}\".format(month))\n",
        "                topicosCsv = pd.DataFrame();\n",
        "                topicosStr = topicos_sem_prob(LDA)\n",
        "                topicosCsv['topico'] = topicosStr\n",
        "                topicosCsv.to_csv('/content/drive/My Drive/datasets/articles/monthPre/final/parametros/topicosmeses/melhoresTopicosMes{}C.csv'.format(month))\n",
        "\n",
        "              toc = time.perf_counter() ## time\n",
        "              print(\"Tempo de execução final {}s\\n\".format(round((toc-tic), 2)))\n",
        "\n",
        "              coherenceDict['topic'].append(t)\n",
        "              coherenceDict['month'].append(month)\n",
        "              coherenceDict['iter'].append(iter)\n",
        "              coherenceDict['c_v'].append(valuecv)\n",
        "              coherenceDict['alpha'].append(a)\n",
        "              coherenceDict['eta'].append(e)\n",
        "              coherenceDict['rmtop'].append(rm)\n",
        "              coherenceDict['mindf'].append(mdf)\n",
        "              coherenceDict['mincf'].append(mcf)\n",
        "              coherenceDict['vocab'].append(LDA.num_vocabs)\n",
        "              gc.collect()\n",
        "              corpus = None\n",
        "              LDA = None\n",
        "              dfDados = pd.DataFrame.from_dict(coherenceDict)\n",
        "              #dfDados.to_csv('/content/drive/My Drive/datasets/articles/monthPre/final/parametros/dados/dadosTopicosMes{}C.csv'.format(month))\n",
        "              \n",
        "  end_month = time.perf_counter()\n",
        "  print(\"\\n--- TEMPO DE EXECUÇÃO DO MÊS {}: {}s\\n\".format(month, round((end_month - init_month), 2)))"
      ],
      "execution_count": null,
      "outputs": []
    },
    {
      "cell_type": "markdown",
      "metadata": {
        "id": "RVHP7SAEE0Ws"
      },
      "source": [
        "params escolhidos para cada mes:\n",
        "\n",
        "alpha: 0.01, eta: 0.05, topicos: 30, min_df = 400, rm_top: 100, min_cf = 300\n"
      ]
    }
  ]
}